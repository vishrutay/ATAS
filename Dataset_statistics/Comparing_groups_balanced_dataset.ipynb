{
 "cells": [
  {
   "cell_type": "code",
   "execution_count": 1,
   "id": "8cb2ac83",
   "metadata": {},
   "outputs": [],
   "source": [
    "import os\n",
    "import pandas as pd\n",
    "import numpy\n",
    "import matplotlib.pyplot as plt\n",
    "import numpy as np\n",
    "from scipy import stats"
   ]
  },
  {
   "cell_type": "code",
   "execution_count": 2,
   "id": "25648901",
   "metadata": {},
   "outputs": [],
   "source": [
    "folder_with_csv_files = # '...../Stat_csv_files'"
   ]
  },
  {
   "cell_type": "code",
   "execution_count": 3,
   "id": "c1c8d763",
   "metadata": {},
   "outputs": [],
   "source": [
    "os.chdir(folder_with_csv_files)"
   ]
  },
  {
   "cell_type": "code",
   "execution_count": 4,
   "id": "02eec9cb",
   "metadata": {},
   "outputs": [],
   "source": [
    "df_AWNS = pd.read_csv('AWNS_details.csv')\n",
    "df_AWS = pd.read_csv('AWS_details.csv')"
   ]
  },
  {
   "cell_type": "code",
   "execution_count": 5,
   "id": "6e7c1252",
   "metadata": {},
   "outputs": [],
   "source": [
    "AWNS_age = df_AWNS[['Age']].values.flatten()\n",
    "AWS_age = df_AWS[['Age']].values.flatten()"
   ]
  },
  {
   "cell_type": "code",
   "execution_count": 6,
   "id": "e55ea58d",
   "metadata": {},
   "outputs": [],
   "source": [
    "AWNS_S = df_AWNS[['Sex']].values.flatten()\n",
    "AWS_S = df_AWS[['Sex']].values.flatten()"
   ]
  },
  {
   "cell_type": "code",
   "execution_count": 7,
   "id": "8554a6a2",
   "metadata": {},
   "outputs": [
    {
     "name": "stdout",
     "output_type": "stream",
     "text": [
      "Minimum value AWNS: 22 Maximum value AWNS: 63\n",
      "Minimum value AWS: 24 Maximum value AWS: 62\n"
     ]
    }
   ],
   "source": [
    "#Age min and max\n",
    "print(\"Minimum value AWNS:\", min(AWNS_age), \"Maximum value AWNS:\", max(AWNS_age))\n",
    "print(\"Minimum value AWS:\", min(AWS_age), \"Maximum value AWS:\", max(AWS_age))"
   ]
  },
  {
   "cell_type": "code",
   "execution_count": 8,
   "id": "d52815a0",
   "metadata": {},
   "outputs": [
    {
     "name": "stdout",
     "output_type": "stream",
     "text": [
      "AWNS_S -> M: 10, F: 8\n",
      "AWS_S -> M: 12, F: 5\n"
     ]
    }
   ],
   "source": [
    "count_m1, count_f1 = np.sum(AWNS_S == 'M'), np.sum(AWNS_S == 'F')\n",
    "count_m2, count_f2 = np.sum(AWS_S == 'M'), np.sum(AWS_S == 'F')\n",
    "\n",
    "print(f\"AWNS_S -> M: {count_m1}, F: {count_f1}\")\n",
    "print(f\"AWS_S -> M: {count_m2}, F: {count_f2}\")"
   ]
  },
  {
   "cell_type": "code",
   "execution_count": 9,
   "id": "7d2bdb42",
   "metadata": {},
   "outputs": [
    {
     "name": "stdout",
     "output_type": "stream",
     "text": [
      "Mean AWNS_age: 31.77777777777778\n"
     ]
    }
   ],
   "source": [
    "meanAWNS_age = sum(AWNS_age) / len(AWNS_age)\n",
    "print(\"Mean AWNS_age:\", meanAWNS_age)"
   ]
  },
  {
   "cell_type": "code",
   "execution_count": 10,
   "id": "74a69fbe",
   "metadata": {},
   "outputs": [
    {
     "name": "stdout",
     "output_type": "stream",
     "text": [
      "Mean AWS_age: 39.588235294117645\n"
     ]
    }
   ],
   "source": [
    "meanAWS_age = sum(AWS_age) / len(AWS_age)\n",
    "print(\"Mean AWS_age:\", meanAWS_age)"
   ]
  },
  {
   "cell_type": "code",
   "execution_count": 11,
   "id": "f68a8089",
   "metadata": {},
   "outputs": [
    {
     "name": "stdout",
     "output_type": "stream",
     "text": [
      "F-statistic: 3.50239\n",
      "p-value: 0.07017\n",
      "The differences between the means are not statistically significant (p >= 0.05)\n"
     ]
    }
   ],
   "source": [
    "# Run an ANOVA with the differently sized data (This is for the original data 18 and 17 participants)\n",
    "from scipy import stats\n",
    "\n",
    "# Perform one-way ANOVA\n",
    "F, p = stats.f_oneway(AWNS_age, AWS_age)\n",
    "\n",
    "# Display the F-statistic and the p-value\n",
    "print(f\"F-statistic: {F:.5f}\")\n",
    "print(f\"p-value: {p:.5f}\")\n",
    "\n",
    "# Interpret the results\n",
    "alpha = 0.05  # Set the significance level\n",
    "if p < alpha:\n",
    "    print(f\"The differences between the means are statistically significant (p < {alpha})\")\n",
    "else:\n",
    "    print(f\"The differences between the means are not statistically significant (p >= {alpha})\")\n"
   ]
  }
 ],
 "metadata": {
  "kernelspec": {
   "display_name": "Python 3",
   "language": "python",
   "name": "python3"
  },
  "language_info": {
   "codemirror_mode": {
    "name": "ipython",
    "version": 3
   },
   "file_extension": ".py",
   "mimetype": "text/x-python",
   "name": "python",
   "nbconvert_exporter": "python",
   "pygments_lexer": "ipython3",
   "version": "3.7.6"
  }
 },
 "nbformat": 4,
 "nbformat_minor": 5
}
