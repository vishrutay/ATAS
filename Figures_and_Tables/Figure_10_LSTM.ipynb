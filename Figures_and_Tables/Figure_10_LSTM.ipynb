{
 "cells": [
  {
   "cell_type": "code",
   "execution_count": null,
   "id": "e3490795",
   "metadata": {},
   "outputs": [],
   "source": [
    "import wave, os, glob\n",
    "import noisereduce\n",
    "from scipy.io import wavfile\n",
    "import matplotlib.pyplot as plt\n",
    "import librosa.display\n",
    "import sys\n",
    "import numpy\n",
    "import librosa\n",
    "numpy.set_printoptions(threshold=sys.maxsize)\n",
    "#from pydub import AudioSegment,silence\n",
    "import math\n",
    "from scipy.stats import variation \n",
    "import statistics\n",
    "import pandas as pd\n",
    "import numpy as np\n",
    "import tensorflow as tf\n",
    "from sklearn.preprocessing import StandardScaler\n",
    "import warnings\n",
    "warnings.filterwarnings(\"ignore\")\n"
   ]
  },
  {
   "cell_type": "code",
   "execution_count": null,
   "id": "45990301",
   "metadata": {},
   "outputs": [],
   "source": [
    "# load all parameters file \n",
    "par_details = pd.read_csv(#'.../Stat_csv_files/AWNS_AWS_all_details.csv')# Change path as required\n"
   ]
  },
  {
   "cell_type": "code",
   "execution_count": null,
   "id": "50dac901",
   "metadata": {},
   "outputs": [],
   "source": [
    "par_details['All_events_durations'] = par_details['All_events_durations'].apply(lambda x: np.fromstring(x, sep=','))\n",
    "par_details['long_p_durations'] = par_details['long_p_durations'].apply(lambda x: np.fromstring(x, sep=','))\n",
    "par_details['short_p_durations'] = par_details['short_p_durations'].apply(lambda x: np.fromstring(x, sep=','))\n",
    "par_details['Event_type'] = par_details['Event_type'].apply(lambda x: np.fromstring(x, sep=','))\n"
   ]
  },
  {
   "cell_type": "code",
   "execution_count": null,
   "id": "bcbfb0ef",
   "metadata": {},
   "outputs": [],
   "source": [
    "df_all_f_pre_nor = par_details[['All_events_durations','Event_type','Pause_Duration_s','Pause_Events','CV Speech','Mean Pause_s','long_p_count','Speech_Rate','short_p_durations_mean']]"
   ]
  },
  {
   "cell_type": "code",
   "execution_count": null,
   "id": "190b3cf6",
   "metadata": {},
   "outputs": [],
   "source": [
    "df_all_f_pre_nor_copy = df_all_f_pre_nor.copy()"
   ]
  },
  {
   "cell_type": "code",
   "execution_count": null,
   "id": "03937b78",
   "metadata": {},
   "outputs": [],
   "source": [
    "output_column = par_details['Group']\n",
    "numerical_labels = np.array([0 if label == \"AWS\" else 1 for label in output_column])"
   ]
  },
  {
   "cell_type": "code",
   "execution_count": null,
   "id": "d99925bc",
   "metadata": {},
   "outputs": [],
   "source": [
    "df_all_f_pre_nor_copy['Numerical_Label'] = numerical_labels"
   ]
  },
  {
   "cell_type": "code",
   "execution_count": null,
   "id": "f4f7a607",
   "metadata": {},
   "outputs": [],
   "source": [
    "scaler = StandardScaler()"
   ]
  },
  {
   "cell_type": "code",
   "execution_count": null,
   "id": "d3f6986d",
   "metadata": {},
   "outputs": [],
   "source": [
    "# Normalize all columns except 'All_events_durations', 'Event_type', and 'Numerical_Label'\n",
    "columns_to_normalize = df_all_f_pre_nor_copy.columns.difference(['All_events_durations', 'Event_type', 'Numerical_Label'])\n",
    "df_all_f_pre_nor_copy[columns_to_normalize] = scaler.fit_transform(df_all_f_pre_nor_copy[columns_to_normalize])\n"
   ]
  },
  {
   "cell_type": "code",
   "execution_count": null,
   "id": "69c89829",
   "metadata": {},
   "outputs": [],
   "source": [
    "# Define variables to store compiled data\n",
    "input_data_2_segs = []\n",
    "new_less = []\n",
    "data_frames = []    # For 'Numerical_Label' == 1\n",
    "data_frames_1 = []  # For 'Numerical_Label' == 0\n",
    "data_frames_less = []\n",
    "\n",
    "# Separate segments based on 'Numerical_Label' values\n",
    "input_data_2_segs_1 = []  # For 'Numerical_Label' == 1\n",
    "input_data_2_segs_2 = []  # For 'Numerical_Label' == 0\n",
    "\n",
    "# Iterate over each row in df_all_f_pre_nor_copy to process event data\n",
    "for idx, row in df_all_f_pre_nor_copy.iterrows():\n",
    "    # Extract 'All_event_durations' as 'Time_diff' and 'Event_type' directly from the row\n",
    "    input_data_2_seg = pd.DataFrame({'Time_diff': row['All_events_durations']})\n",
    "    input_data_2_seg['Event_type'] = row['Event_type']\n",
    "    \n",
    "    # Normalize 'Time_diff' in the input segment\n",
    "    input_data_2_seg['Time_diff'] = scaler.fit_transform(input_data_2_seg[['Time_diff']])\n",
    "    \n",
    "    #print(input_data_2_seg)\n",
    "    # Repeat the other participant details for each event in the row\n",
    "    row_df_use = row.drop(['All_events_durations', 'Event_type', 'Numerical_Label']).to_frame().T\n",
    "    n = len(input_data_2_seg)\n",
    "    df_repeated = pd.concat([row_df_use] * n, ignore_index=True, axis=0)\n",
    "    \n",
    "    # Concatenate event data with repeated participant details\n",
    "    concatenated_df = pd.concat([input_data_2_seg, df_repeated], axis=1, ignore_index=False)\n",
    "    \n",
    "    # Append processed data to lists based on 'Numerical_Label' value\n",
    "    input_data_2_segs.append(concatenated_df)\n",
    "    new_less.append(input_data_2_seg)\n",
    "    \n",
    "    if row['Numerical_Label'] == 1:\n",
    "        data_frames.append(concatenated_df)\n",
    "        input_data_2_segs_1.append(concatenated_df)  # For input_data_2_1\n",
    "    else:\n",
    "        data_frames_1.append(concatenated_df)\n",
    "        input_data_2_segs_2.append(concatenated_df)  # For input_data_2_2\n",
    "        \n",
    "    data_frames_less.append(input_data_2_seg)\n",
    "\n",
    "# Compile all segments into separate DataFrames for output\n",
    "input_data_2_1 = pd.concat(input_data_2_segs_1, axis=0, ignore_index=True)  # For 'Numerical_Label' == 1\n",
    "input_data_2_2 = pd.concat(input_data_2_segs_2, axis=0, ignore_index=True)  # For 'Numerical_Label' == 0\n",
    "\n",
    "# Generate label arrays for the compiled data lengths\n",
    "input_data_2_1_label = np.full((len(input_data_2_1),), 1)\n",
    "input_data_2_2_label = np.full((len(input_data_2_2),), 0)\n",
    "\n",
    "# At this point:\n",
    "# - input_data_2_1 contains compiled data for 'Numerical_Label' == 1. # AWNS\n",
    "# - input_data_2_2 contains compiled data for 'Numerical_Label' == 0. # AWS\n",
    "# - input_data_2_1_label and input_data_2_2_label provide labels for each set.\n",
    "# - data_frames and data_frames_1 contain separated data \n"
   ]
  },
  {
   "cell_type": "code",
   "execution_count": null,
   "id": "5db4a3ca",
   "metadata": {},
   "outputs": [
    {
     "name": "stdout",
     "output_type": "stream",
     "text": [
      "9\n"
     ]
    }
   ],
   "source": [
    "no_of_features = len(input_data_2_1.columns)\n",
    "print(no_of_features)"
   ]
  },
  {
   "cell_type": "code",
   "execution_count": null,
   "id": "70e17192",
   "metadata": {},
   "outputs": [],
   "source": [
    "# Function to divide a DataFrame into segments of a \n",
    "# fixed length, ensuring all segments have the same number of rows\n",
    "\n",
    "def segment_dataframe(df, sample_length):\n",
    "    segments = []\n",
    "    num_segments = len(df) // sample_length\n",
    "    for i in range(num_segments):\n",
    "        start = i * sample_length\n",
    "        end = start + sample_length\n",
    "        segments.append(df.iloc[start:end, :])\n",
    "    if len(df) % sample_length != 0:\n",
    "        # pad the last segment with zeros\n",
    "        segment = df.iloc[end:, :]\n",
    "        padding = pd.DataFrame(0, index=range(sample_length - len(segment)), columns=df.columns)\n",
    "        segments.append(pd.concat([segment, padding]))\n",
    "    return segments"
   ]
  },
  {
   "cell_type": "code",
   "execution_count": null,
   "id": "344b39c4",
   "metadata": {},
   "outputs": [],
   "source": [
    "sample_length = 20\n",
    "segments = []\n",
    "for i in data_frames:\n",
    "    dd = segment_dataframe(i, sample_length)\n",
    "    #print(len(dd))\n",
    "    segments.append(dd)\n",
    "segments_1 = []\n",
    "for i in data_frames_1:\n",
    "    dd = segment_dataframe(i, sample_length)\n",
    "    #print(len(dd))\n",
    "    segments_1.append(dd)"
   ]
  },
  {
   "cell_type": "code",
   "execution_count": null,
   "id": "8b7f26c1",
   "metadata": {},
   "outputs": [
    {
     "name": "stdout",
     "output_type": "stream",
     "text": [
      "10 15 9\n"
     ]
    }
   ],
   "source": [
    "import random\n",
    "\n",
    "# generate three different random numbers between 0 and len(data_frames)\n",
    "num1_awns, num2_awns, num3_awns = random.sample(range(len(data_frames)), 3)\n",
    "\n",
    "# ensure num2_awns is different from num1_awns\n",
    "while num2_awns == num1_awns:\n",
    "    num2_awns = random.randint(0, len(data_frames)-1)\n",
    "\n",
    "# ensure num3_aws is different from both num1_awns and num2_awns\n",
    "while num3_awns == num1_awns or num3_awns == num2_awns:\n",
    "    num3_awns = random.randint(0, len(data_frames)-1)\n",
    "\n",
    "print(num1_awns, num2_awns, num3_awns)"
   ]
  },
  {
   "cell_type": "code",
   "execution_count": null,
   "id": "055b9e4a",
   "metadata": {},
   "outputs": [
    {
     "name": "stdout",
     "output_type": "stream",
     "text": [
      "9 16 11\n"
     ]
    }
   ],
   "source": [
    "# generate three different random numbers between 0 and len(data_frames_1)-1\n",
    "num5_aws, num6_aws, num7_aws = random.sample(range(len(data_frames_1)), 3)\n",
    "\n",
    "# ensure num6_aws is different from num5_aws\n",
    "while num6_aws == num5_aws:\n",
    "    num6_aws = random.randint(0, len(data_frames_1)-1)\n",
    "\n",
    "# ensure num7_aws is different from num5_aws and num6_aws\n",
    "num7_aws = random.randint(0, len(data_frames_1)-1)\n",
    "while num7_aws == num5_aws or num7_aws == num6_aws:\n",
    "    num7_aws = random.randint(0, len(data_frames_1)-1)\n",
    "\n",
    "print(num5_aws, num6_aws, num7_aws)"
   ]
  },
  {
   "cell_type": "code",
   "execution_count": null,
   "id": "e4cc7091",
   "metadata": {},
   "outputs": [],
   "source": [
    "segments_all = [item for i, sublist in enumerate(segments) for item in sublist if i not in [num1_awns, num2_awns, num3_awns]]\n",
    "#print(len(segments_all)) \n",
    "segments_all_1 = [item for i, sublist in enumerate(segments_1) for item in sublist if i not in [num5_aws, num6_aws, num7_aws]]\n",
    "#print(len(segments_all_1))  "
   ]
  },
  {
   "cell_type": "code",
   "execution_count": null,
   "id": "068c5156",
   "metadata": {},
   "outputs": [],
   "source": [
    "# make test and validation sets\n",
    "# put num1_awns and num3_aws together # test\n",
    "segments_test = segments[num1_awns]+ segments[num2_awns]+segments_1[num5_aws]+segments_1[num6_aws]\n",
    "#print(len(segments_test)) \n",
    "# put num2_awns and num4_aws together \n",
    "segments_val =  segments[num3_awns]+segments_1[num7_aws]\n",
    "#print(len(segments_val))  "
   ]
  },
  {
   "cell_type": "code",
   "execution_count": null,
   "id": "765bb756",
   "metadata": {},
   "outputs": [],
   "source": [
    "combined_list_seg = segments_all+segments_all_1\n",
    "#len(combined_list_seg)"
   ]
  },
  {
   "cell_type": "code",
   "execution_count": null,
   "id": "8c76a890",
   "metadata": {},
   "outputs": [],
   "source": [
    "input_data_1_label = np.full((len(segments_all),), 0)\n",
    "input_data_2_label = np.full((len(segments_all_1),), 1)"
   ]
  },
  {
   "cell_type": "code",
   "execution_count": null,
   "id": "c34ac82b",
   "metadata": {},
   "outputs": [],
   "source": [
    "y_train = np.concatenate((input_data_1_label,input_data_2_label), axis=0)\n",
    "#y_train.shape"
   ]
  },
  {
   "cell_type": "code",
   "execution_count": null,
   "id": "552bdf2f",
   "metadata": {},
   "outputs": [],
   "source": [
    "# generate labels for test and validation sets \n",
    "# Test , len of awns = 0 is (num1_awns) and len of aws = 1 is (num3_aws)\n",
    "y_test_1 = np.full((len(segments[num1_awns]),), 0)\n",
    "y_test_2 = np.full((len(segments[num2_awns]),), 0)\n",
    "y_test_3 = np.full((len(segments_1[num5_aws]),), 1)\n",
    "y_test_4 = np.full((len(segments_1[num6_aws]),), 1)\n",
    "y_test = np.concatenate((y_test_1,y_test_2,y_test_3,y_test_4), axis=0)\n",
    "#print(y_test.shape)\n",
    "# Val , len of awns = 0 is (num2_awns) and len of aws = 1 is (num4_aws)\n",
    "y_val_1 = np.full((len(segments[num3_awns]),), 0)\n",
    "y_val_2 = np.full((len(segments_1[num7_aws]),), 1)\n",
    "\n",
    "y_val = np.concatenate((y_val_1,y_val_2), axis=0)\n",
    "#print(y_val.shape)"
   ]
  },
  {
   "cell_type": "code",
   "execution_count": null,
   "id": "9d78dc5e",
   "metadata": {},
   "outputs": [],
   "source": [
    "X_train= np.array(combined_list_seg).reshape((len(combined_list_seg), sample_length, no_of_features))\n",
    "\n",
    "# print the shape of the resulting array\n",
    "#print(X_train.shape)"
   ]
  },
  {
   "cell_type": "code",
   "execution_count": null,
   "id": "283eaa39",
   "metadata": {},
   "outputs": [],
   "source": [
    "X_test= np.array(segments_test).reshape((len(segments_test), sample_length, no_of_features))\n",
    "\n",
    "# print the shape of the resulting array\n",
    "#print(X_test.shape)"
   ]
  },
  {
   "cell_type": "code",
   "execution_count": null,
   "id": "258204af",
   "metadata": {},
   "outputs": [],
   "source": [
    "X_val= np.array(segments_val).reshape((len(segments_val), sample_length, no_of_features))\n",
    "\n",
    "# print the shape of the resulting array\n",
    "#print(X_val.shape)"
   ]
  },
  {
   "cell_type": "code",
   "execution_count": null,
   "id": "3737fcc9",
   "metadata": {},
   "outputs": [
    {
     "name": "stdout",
     "output_type": "stream",
     "text": [
      "(450, 20, 9)\n"
     ]
    }
   ],
   "source": [
    "# Augment the training data set \n",
    "\n",
    "# create 3D array of shape (num_samples, height, width)\n",
    "original_data = X_train\n",
    "\n",
    "# create an empty array to store rotated data\n",
    "rotated_data = np.empty_like(original_data)\n",
    "\n",
    "# loop over each sample in the original data\n",
    "for i in range(original_data.shape[0]):\n",
    "    # rotate the sample by 180 degrees\n",
    "    rotated_sample = np.rot90(original_data[i], k=2, axes=(0, 1))\n",
    "    # store the rotated sample in the rotated data array\n",
    "    rotated_data[i] = rotated_sample\n",
    "\n",
    "# concatenate the original and rotated data along the sample axis\n",
    "augmented_data = np.concatenate((original_data, rotated_data), axis=0)\n",
    "\n",
    "# print the shape of the augmented data\n",
    "print(augmented_data.shape)"
   ]
  },
  {
   "cell_type": "code",
   "execution_count": null,
   "id": "c13ae36a",
   "metadata": {},
   "outputs": [],
   "source": [
    "y_train_aug = np.concatenate((y_train,y_train), axis=0)\n",
    "#y_train_aug.shape"
   ]
  },
  {
   "cell_type": "code",
   "execution_count": null,
   "id": "fc250985",
   "metadata": {},
   "outputs": [],
   "source": [
    "# Ensure data is a NumPy array of floats\n",
    "augmented_data = np.array(augmented_data, dtype=np.float32)\n",
    "y_train_aug = np.array(y_train_aug, dtype=np.float32)\n",
    "X_train = np.array(X_train, dtype=np.float32)\n",
    "X_test = np.array(X_test, dtype=np.float32)\n",
    "X_val = np.array(X_val, dtype=np.float32)"
   ]
  },
  {
   "cell_type": "code",
   "execution_count": null,
   "id": "5615e85a",
   "metadata": {},
   "outputs": [],
   "source": [
    "# Make and run the LSTM model \n",
    "# Model \n",
    "from tensorflow.keras.models import Sequential\n",
    "from tensorflow.keras.layers import Dense, LSTM, Bidirectional, Dropout\n",
    "\n",
    "model = Sequential()\n",
    "model.add(LSTM(units=32, dropout=0.2, recurrent_dropout=0.2, input_shape=(None,no_of_features)))\n",
    "model.add(Dropout(0.5))\n",
    "model.add(Dense(1, activation='sigmoid'))\n",
    "\n",
    "model.compile(optimizer='adam', loss='binary_crossentropy', metrics=['accuracy'])\n",
    "#model.summary()"
   ]
  },
  {
   "cell_type": "code",
   "execution_count": null,
   "id": "e2dfa7b5",
   "metadata": {},
   "outputs": [],
   "source": [
    "from sklearn.metrics import accuracy_score, precision_recall_fscore_support\n",
    "from sklearn.metrics import precision_recall_fscore_support, accuracy_score\n",
    "\n",
    "# Initialize lists to store metrics (though these are used only for a single iteration now)\n",
    "accuracies = []\n",
    "precisions = []\n",
    "recalls = []\n",
    "f1_scores = []\n",
    "\n",
    "# Run model training and evaluation for a single iteration\n",
    "print(\"Iteration 1:\")\n",
    "\n",
    "# Train the model (no validation data in this case)\n",
    "history = model.fit(augmented_data, y_train_aug, validation_data=(X_val, y_val), epochs=10, batch_size=32, verbose=0)\n",
    "\n",
    "# Predict using the test set\n",
    "y_pred = model.predict(X_test)\n",
    "\n",
    "# Round the predictions to the nearest integer (0 or 1)\n",
    "y_pred = np.round(y_pred)\n",
    "\n",
    "# Calculate precision, recall, and F1-score\n",
    "precision, recall, f1_score, support = precision_recall_fscore_support(y_test, y_pred, average='binary')\n",
    "accuracy = accuracy_score(y_test, y_pred)\n",
    "\n",
    "# Append the results to the lists (even though we only have one iteration)\n",
    "accuracies.append(accuracy)\n",
    "f1_scores.append(f1_score)\n",
    "\n",
    "# Print results for this single iteration\n",
    "print('Accuracy:', accuracy)\n",
    "print('F1-score:', f1_score)\n",
    "print(num1_awns, num2_awns, num3_awns)\n",
    "print(num5_aws, num6_aws, num7_aws)"
   ]
  },
  {
   "cell_type": "code",
   "execution_count": null,
   "id": "b85e6646",
   "metadata": {},
   "outputs": [],
   "source": [
    "# Iteration 1:\n",
    "# 2/2 [==============================] - 0s 5ms/step\n",
    "# Accuracy: 0.6\n",
    "# F1-score: 0.6666666666666666\n",
    "# num1_awns, num2_awns, num3_awns - 3 11 9\n",
    "# num5_aws, num6_aws, num7_aws - 1 12 9 \n",
    "\n",
    "\n",
    "# Iteration 2:\n",
    "# 1/1 [==============================] - 0s 254ms/step\n",
    "# Accuracy: 0.7391304347826086\n",
    "# F1-score: 0.625\n",
    "# num1_awns, num2_awns, num3_awns - 13 2 8\n",
    "# 15 2 8\n",
    "\n",
    "# Iteration 3:\n",
    "# 1/1 [==============================] - 0s 239ms/step\n",
    "# Accuracy: 0.8\n",
    "# F1-score: 0.7058823529411764\n",
    "# num1_awns, num2_awns, num3_awns - 17 14 5\n",
    "# 13 15 6\n",
    "\n",
    "# Iteration 4:\n",
    "# 1/1 [==============================] - 0s 216ms/step\n",
    "# Accuracy: 0.8333333333333334\n",
    "# F1-score: 0.8717948717948718\n",
    "# 17 3 13\n",
    "# 14 7 8\n",
    "\n",
    "# Iteration 5:\n",
    "# 1/1 [==============================] - 0s 192ms/step\n",
    "# Accuracy: 0.7692307692307693\n",
    "# F1-score: 0.7000000000000001\n",
    "# 17 3 14\n",
    "# 11 4 10"
   ]
  },
  {
   "cell_type": "code",
   "execution_count": null,
   "id": "85771709",
   "metadata": {},
   "outputs": [
    {
     "data": {
      "image/png": "[encoded data removed]",
      "text/plain": [
       "<Figure size 432x288 with 1 Axes>"
      ]
     },
     "metadata": {
      "needs_background": "light"
     },
     "output_type": "display_data"
    }
   ],
   "source": [
    "# Plot the cross-validation scores\n",
    "acc = [0.6,0.7391304347826086,0.8,0.8333333333333334,0.7692307692307693] # accuracy values - \n",
    "plt.boxplot(acc)\n",
    "num =5\n",
    "plt.title(\"LSTM Accuracy for 5 Different Test Sets ; n = %i\" %num)\n",
    "plt.xticks([])\n",
    "plt.ylabel(\"Accuracy Score\")\n",
    "plt.show()"
   ]
  },
  {
   "cell_type": "code",
   "execution_count": null,
   "id": "bd33c485",
   "metadata": {},
   "outputs": [
    {
     "data": {
      "image/png": "[encoded data removed]",
      "text/plain": [
       "<Figure size 432x288 with 1 Axes>"
      ]
     },
     "metadata": {
      "needs_background": "light"
     },
     "output_type": "display_data"
    }
   ],
   "source": [
    "# Plot the f-1 scores\n",
    "f1 = [0.6666666666666666,0.625,0.7058823529411764,0.8717948717948718,0.7000000000000001] # f1 values - \n",
    "plt.boxplot(f1)\n",
    "num =5\n",
    "plt.title(\"LSTM F-1 Score for 5 Different Test Sets ; n = %i\" %num)\n",
    "plt.xticks([])\n",
    "plt.ylabel(\"F-1 Score\")\n",
    "plt.show()"
   ]
  },
  {
   "cell_type": "code",
   "execution_count": null,
   "id": "151ad4b1",
   "metadata": {},
   "outputs": [],
   "source": []
  }
 ],
 "metadata": {
  "kernelspec": {
   "display_name": "Python 3",
   "language": "python",
   "name": "python3"
  },
  "language_info": {
   "codemirror_mode": {
    "name": "ipython",
    "version": 3
   },
   "file_extension": ".py",
   "mimetype": "text/x-python",
   "name": "python",
   "nbconvert_exporter": "python",
   "pygments_lexer": "ipython3",
   "version": "3.7.6"
  }
 },
 "nbformat": 4,
 "nbformat_minor": 5
}
