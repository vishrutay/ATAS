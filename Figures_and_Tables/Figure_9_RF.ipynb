{
 "cells": [
  {
   "cell_type": "markdown",
   "id": "118620c3",
   "metadata": {},
   "source": [
    "## Random Forest"
   ]
  },
  {
   "cell_type": "code",
   "execution_count": null,
   "id": "1e21ffdb",
   "metadata": {},
   "outputs": [],
   "source": [
    "import pandas as pd\n",
    "import numpy as np\n",
    "from sklearn.tree import DecisionTreeClassifier \n",
    "from sklearn.ensemble import RandomForestClassifier\n",
    "from sklearn.datasets import make_classification\n",
    "from sklearn import metrics\n",
    "from sklearn.model_selection import train_test_split, RandomizedSearchCV, cross_val_score\n",
    "from sklearn.metrics import confusion_matrix, ConfusionMatrixDisplay, accuracy_score\n",
    "import matplotlib.pyplot as plt"
   ]
  },
  {
   "cell_type": "code",
   "execution_count": null,
   "id": "c7cad65b",
   "metadata": {},
   "outputs": [],
   "source": [
    "# Selected features that were significantly different between speech samples for\n",
    "# AWS and AWNS "
   ]
  },
  {
   "cell_type": "code",
   "execution_count": null,
   "id": "b6b3603a",
   "metadata": {},
   "outputs": [],
   "source": [
    "par_details = pd.read_csv(#'.../Stat_csv_files/AWNS_AWS_all_details.csv') #Change path as required"
   ]
  },
  {
   "cell_type": "code",
   "execution_count": null,
   "id": "72fa26bf",
   "metadata": {},
   "outputs": [],
   "source": [
    "#split dataset in features and target variable\n",
    "feature_cols = ['Pause_Duration_s','Pause_Events','CV Speech','Mean Pause_s','long_p_count','Speech_Rate','short_p_durations_mean'] \n",
    "\n",
    "X = par_details[feature_cols] # Features\n",
    "y = par_details['Group'] # Target variable\n",
    "# Split dataset into training set and test set\n",
    "X_train, X_test, y_train, y_test = train_test_split(X, y, test_size=0.2, random_state=124) # 80% training and 20% test"
   ]
  },
  {
   "cell_type": "code",
   "execution_count": null,
   "id": "72183eae",
   "metadata": {},
   "outputs": [],
   "source": [
    "feature_cols1 = feature_cols + ['Group']\n",
    "data = par_details.loc[:, feature_cols1]"
   ]
  },
  {
   "cell_type": "code",
   "execution_count": null,
   "id": "0a2c1e27",
   "metadata": {},
   "outputs": [],
   "source": [
    "# Create a random forest classifier with 100 trees\n",
    "rf = RandomForestClassifier(n_estimators=100, random_state=5)\n",
    "\n",
    "# Fit the model on the training data\n",
    "rf.fit(X_train, y_train)\n",
    "\n",
    "# Make predictions on the test data\n",
    "y_pred = rf.predict(X_test)\n",
    "\n",
    "# # Calculate the accuracy of the model\n",
    "# accuracy = accuracy_score(y_test, y_pred)\n",
    "# print(\"Accuracy:\", accuracy)"
   ]
  },
  {
   "cell_type": "code",
   "execution_count": null,
   "id": "6ce42611",
   "metadata": {},
   "outputs": [
    {
     "name": "stdout",
     "output_type": "stream",
     "text": [
      "Accuracy: 0.8571428571428571\n",
      "Confusion matrix:\n",
      "[[4 1]\n",
      " [0 2]]\n"
     ]
    },
    {
     "data": {
      "image/png": "[encoded data removed]",
      "text/plain": [
       "<Figure size 432x288 with 2 Axes>"
      ]
     },
     "metadata": {
      "needs_background": "light"
     },
     "output_type": "display_data"
    }
   ],
   "source": [
    "from sklearn.ensemble import RandomForestClassifier\n",
    "from sklearn.metrics import confusion_matrix, ConfusionMatrixDisplay, accuracy_score\n",
    "import matplotlib.pyplot as plt\n",
    "\n",
    "# Model Accuracy, how often is the classifier correct?\n",
    "print(\"Accuracy:\", accuracy_score(y_test, y_pred))\n",
    "\n",
    "# Create a confusion matrix\n",
    "cm = confusion_matrix(y_test, y_pred)\n",
    "\n",
    "print(\"Confusion matrix:\")\n",
    "print(cm)\n",
    "\n",
    "#Display the confusion matrix\n",
    "disp = ConfusionMatrixDisplay(confusion_matrix=cm, display_labels=['AWS', 'AWNS'])\n",
    "disp.plot(cmap=plt.cm.Blues)\n",
    "\n",
    "plt.show()\n"
   ]
  },
  {
   "cell_type": "code",
   "execution_count": null,
   "id": "4fdc17c4",
   "metadata": {},
   "outputs": [
    {
     "name": "stdout",
     "output_type": "stream",
     "text": [
      "Sample 1 - Best score: 0.819\n",
      "Sample 1 - Best parameters: {'min_samples_split': 2, 'min_samples_leaf': 1, 'max_features': 'sqrt', 'max_depth': 5}\n",
      "Sample 2 - Best score: 0.752\n",
      "Sample 2 - Best parameters: {'min_samples_split': 2, 'min_samples_leaf': 1, 'max_features': 'sqrt', 'max_depth': 5}\n",
      "Sample 3 - Best score: 0.748\n",
      "Sample 3 - Best parameters: {'min_samples_split': 2, 'min_samples_leaf': 2, 'max_features': 'sqrt', 'max_depth': 7}\n",
      "Sample 4 - Best score: 0.822\n",
      "Sample 4 - Best parameters: {'min_samples_split': 2, 'min_samples_leaf': 1, 'max_features': 'log2', 'max_depth': 5}\n",
      "Sample 5 - Best score: 0.893\n",
      "Sample 5 - Best parameters: {'min_samples_split': 6, 'min_samples_leaf': 2, 'max_features': None, 'max_depth': 7}\n",
      "Sample 6 - Best score: 0.819\n",
      "Sample 6 - Best parameters: {'min_samples_split': 4, 'min_samples_leaf': 1, 'max_features': 'log2', 'max_depth': 3}\n",
      "Sample 7 - Best score: 0.893\n",
      "Sample 7 - Best parameters: {'min_samples_split': 6, 'min_samples_leaf': 1, 'max_features': None, 'max_depth': 5}\n",
      "Sample 8 - Best score: 0.893\n",
      "Sample 8 - Best parameters: {'min_samples_split': 6, 'min_samples_leaf': 4, 'max_features': 'sqrt', 'max_depth': 7}\n",
      "Sample 9 - Best score: 0.756\n",
      "Sample 9 - Best parameters: {'min_samples_split': 2, 'min_samples_leaf': 1, 'max_features': 'log2', 'max_depth': 5}\n",
      "Sample 10 - Best score: 0.789\n",
      "Sample 10 - Best parameters: {'min_samples_split': 4, 'min_samples_leaf': 2, 'max_features': 'sqrt', 'max_depth': 5}\n"
     ]
    }
   ],
   "source": [
    "import numpy as np\n",
    "import pandas as pd\n",
    "from sklearn.ensemble import RandomForestClassifier\n",
    "from sklearn.model_selection import train_test_split, RandomizedSearchCV, cross_val_score\n",
    "\n",
    "# Define the target variable and features\n",
    "target = 'Group'\n",
    "features = [col for col in data.columns if col != target]\n",
    "\n",
    "# Split the data into training and testing sets\n",
    "X_train, X_test, y_train, y_test = train_test_split(data[features], data[target], test_size=0.3, random_state=49)\n",
    "\n",
    "# Define the random forest classifier\n",
    "rfc = RandomForestClassifier(n_estimators=100)\n",
    "\n",
    "# Define the parameter grid for grid search\n",
    "param_grid = {'max_depth': [3, 5, 7],\n",
    "              'min_samples_split': [2, 4, 6],\n",
    "              'min_samples_leaf': [1, 2, 4],\n",
    "              'max_features': ['sqrt', 'log2', None]}\n",
    "\n",
    "# Perform repetitive random sampling with grid search\n",
    "n_samples = 10\n",
    "scores = []\n",
    "for i in range(n_samples):\n",
    "    # Sample a subset of the data\n",
    "    sample = data.sample(frac=0.8, replace=True, random_state=i)\n",
    "    X = sample[features]\n",
    "    y = sample[target]\n",
    "    \n",
    "    # Perform grid search on the random forest classifier\n",
    "    rs = RandomizedSearchCV(rfc, param_grid, cv=3, n_iter=10, random_state=i)\n",
    "    rs.fit(X, y)\n",
    "    \n",
    "    # Print the metrics for the best model\n",
    "    print(f\"Sample {i+1} - Best score: {rs.best_score_:.3f}\")\n",
    "    print(f\"Sample {i+1} - Best parameters: {rs.best_params_}\")\n",
    "    scores.append(rs.best_score_)\n",
    "    \n"
   ]
  },
  {
   "cell_type": "code",
   "execution_count": null,
   "id": "663ec5bb",
   "metadata": {},
   "outputs": [
    {
     "name": "stdout",
     "output_type": "stream",
     "text": [
      "Cross-validation scores: [0.5        0.75       0.81818182]\n",
      "Mean cross-validation score: 0.689\n"
     ]
    }
   ],
   "source": [
    "# Train the selected model on the entire dataset\n",
    "best_params_index = np.argmax(scores)\n",
    "best_params = rs.cv_results_['params'][best_params_index]\n",
    "rfc = RandomForestClassifier(n_estimators=100, **best_params)\n",
    "rfc.fit(data[features], data[target])\n",
    "\n",
    "# Evaluate the model using cross-validation\n",
    "cv_scores = cross_val_score(rfc, data[features], data[target], cv=3)\n",
    "print(f\"Cross-validation scores: {cv_scores}\")\n",
    "print(f\"Mean cross-validation score: {np.mean(cv_scores):.3f}\")\n"
   ]
  },
  {
   "cell_type": "code",
   "execution_count": null,
   "id": "6c765116",
   "metadata": {},
   "outputs": [
    {
     "data": {
      "image/png": "[encoded data removed]",
      "text/plain": [
       "<Figure size 432x288 with 1 Axes>"
      ]
     },
     "metadata": {
      "needs_background": "light"
     },
     "output_type": "display_data"
    }
   ],
   "source": [
    "# Plot the cross-validation scores\n",
    "plt.boxplot(cv_scores)\n",
    "num =3\n",
    "plt.title(\"Randon Forest Cross-Validation Results; n = %i\" %num)\n",
    "plt.xticks([])\n",
    "plt.ylabel(\"Accuracy Score\")\n",
    "plt.show()"
   ]
  },
  {
   "cell_type": "code",
   "execution_count": null,
   "id": "6fa409d3",
   "metadata": {},
   "outputs": [
    {
     "data": {
      "image/png": "[encoded data removed]",
      "text/plain": [
       "<Figure size 432x288 with 1 Axes>"
      ]
     },
     "metadata": {
      "needs_background": "light"
     },
     "output_type": "display_data"
    }
   ],
   "source": [
    "# Plot the cross-validation scores\n",
    "plt.boxplot(scores)\n",
    "num =10\n",
    "plt.title(\"Randon Forest Repetitive Random Sampling Results; n = %i\" %num)\n",
    "plt.xticks([])\n",
    "plt.ylabel(\"Accuracy Score\")\n",
    "plt.show()"
   ]
  },
  {
   "cell_type": "code",
   "execution_count": null,
   "id": "1206d623",
   "metadata": {},
   "outputs": [],
   "source": []
  }
 ],
 "metadata": {
  "kernelspec": {
   "display_name": "Python 3",
   "language": "python",
   "name": "python3"
  },
  "language_info": {
   "codemirror_mode": {
    "name": "ipython",
    "version": 3
   },
   "file_extension": ".py",
   "mimetype": "text/x-python",
   "name": "python",
   "nbconvert_exporter": "python",
   "pygments_lexer": "ipython3",
   "version": "3.7.6"
  }
 },
 "nbformat": 4,
 "nbformat_minor": 5
}
