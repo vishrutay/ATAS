{
 "cells": [
  {
   "cell_type": "markdown",
   "id": "d801ecaf",
   "metadata": {},
   "source": [
    "## Decision Tree"
   ]
  },
  {
   "cell_type": "code",
   "execution_count": null,
   "id": "9caaf6e4",
   "metadata": {},
   "outputs": [],
   "source": [
    "import pandas as pd\n",
    "import numpy as np\n",
    "from sklearn.tree import DecisionTreeClassifier \n",
    "from sklearn.ensemble import RandomForestClassifier\n",
    "from sklearn.datasets import make_classification\n",
    "from sklearn import metrics\n",
    "from sklearn.model_selection import train_test_split, RandomizedSearchCV, cross_val_score\n",
    "from sklearn.metrics import confusion_matrix, ConfusionMatrixDisplay, accuracy_score\n",
    "import matplotlib.pyplot as plt"
   ]
  },
  {
   "cell_type": "code",
   "execution_count": null,
   "id": "e9d9b348",
   "metadata": {},
   "outputs": [],
   "source": [
    "# Load the all details csv \n",
    "#par_details = pd.read_csv('..../Stat_csv_files/AWNS_AWS_all_details.csv') #Change path as required"
   ]
  },
  {
   "cell_type": "code",
   "execution_count": null,
   "id": "f3015524",
   "metadata": {},
   "outputs": [],
   "source": [
    "#split dataset in features and target variable\n",
    "#feature_cols = ['Total_Duration_Clipped_s', 'Mean Speech_s','Mean Pause_s','Percent_Pause','Pause_Duration_s','Pause_Events','CV Speech', 'CV Pause', 'long_p_count','short_p_count','long_p_durations_cv','short_p_durations_mean','short_p_durations_cv','long_p_durations_mean','Speech_Rate']\n",
    "feature_cols = ['Pause_Duration_s','Pause_Events','CV Speech', 'CV Pause','Mean Pause_s','Mean Speech_s','long_p_count','short_p_count','Speech_Rate','long_p_durations_cv','short_p_durations_cv','long_p_durations_mean','short_p_durations_mean']\n",
    "\n",
    "X = par_details[feature_cols] # Features\n",
    "y = par_details['Group'] # Target variable"
   ]
  },
  {
   "cell_type": "code",
   "execution_count": null,
   "id": "0ac5aaff",
   "metadata": {},
   "outputs": [],
   "source": [
    "feature_cols1 = feature_cols + ['Group']\n",
    "data = par_details.loc[:, feature_cols1]"
   ]
  },
  {
   "cell_type": "code",
   "execution_count": null,
   "id": "2fba5b55",
   "metadata": {},
   "outputs": [],
   "source": [
    "X_train, X_test, y_train, y_test = train_test_split(X, y, test_size=0.2, random_state=110) # 80% training and 20% test"
   ]
  },
  {
   "cell_type": "code",
   "execution_count": null,
   "id": "ff9fd8dd",
   "metadata": {},
   "outputs": [
    {
     "name": "stdout",
     "output_type": "stream",
     "text": [
      "(35, 13)\n",
      "(35,)\n",
      "(28, 13)\n",
      "(28,)\n",
      "(7, 13)\n",
      "(7,)\n"
     ]
    }
   ],
   "source": [
    "print(X.shape)\n",
    "print(y.shape)\n",
    "print(X_train.shape)\n",
    "print(y_train.shape)\n",
    "print(X_test.shape)\n",
    "print(y_test.shape)"
   ]
  },
  {
   "cell_type": "code",
   "execution_count": null,
   "id": "76411ad4",
   "metadata": {},
   "outputs": [
    {
     "name": "stdout",
     "output_type": "stream",
     "text": [
      "Accuracy: 0.7142857142857143\n",
      "Confusion matrix:\n",
      "[[2 1]\n",
      " [1 3]]\n"
     ]
    },
    {
     "data": {
      "image/png": "[encoded data removed]",
      "text/plain": [
       "<Figure size 432x288 with 2 Axes>"
      ]
     },
     "metadata": {
      "needs_background": "light"
     },
     "output_type": "display_data"
    }
   ],
   "source": [
    "# Create Decision Tree classifier object\n",
    "clf = DecisionTreeClassifier(max_depth=20, min_samples_split=3)\n",
    "\n",
    "# Train Decision Tree Classifier\n",
    "clf = clf.fit(X_train, y_train)\n",
    "\n",
    "# Predict the response for test dataset\n",
    "y_pred = clf.predict(X_test)\n",
    "\n",
    "# Model Accuracy, how often is the classifier correct?\n",
    "print(\"Accuracy:\", accuracy_score(y_test, y_pred))\n",
    "\n",
    "# Create a confusion matrix\n",
    "cm = confusion_matrix(y_test, y_pred)\n",
    "\n",
    "print(\"Confusion matrix:\")\n",
    "print(cm)\n",
    "\n",
    "#Display the confusion matrix\n",
    "disp = ConfusionMatrixDisplay(confusion_matrix=cm, display_labels=['AWS', 'AWNS'])\n",
    "disp.plot(cmap=plt.cm.Blues)\n",
    "\n",
    "plt.show()"
   ]
  },
  {
   "cell_type": "code",
   "execution_count": null,
   "id": "5aa46026",
   "metadata": {},
   "outputs": [
    {
     "name": "stdout",
     "output_type": "stream",
     "text": [
      "Sample 1 - Best score: 0.781\n",
      "Sample 1 - Best parameters: {'min_samples_split': 6, 'min_samples_leaf': 4, 'max_depth': 3}\n",
      "Sample 2 - Best score: 0.681\n",
      "Sample 2 - Best parameters: {'min_samples_split': 4, 'min_samples_leaf': 2, 'max_depth': 5}\n",
      "Sample 3 - Best score: 0.785\n",
      "Sample 3 - Best parameters: {'min_samples_split': 2, 'min_samples_leaf': 2, 'max_depth': 5}\n",
      "Sample 4 - Best score: 0.715\n",
      "Sample 4 - Best parameters: {'min_samples_split': 4, 'min_samples_leaf': 4, 'max_depth': 7}\n",
      "Sample 5 - Best score: 0.893\n",
      "Sample 5 - Best parameters: {'min_samples_split': 4, 'min_samples_leaf': 4, 'max_depth': 7}\n",
      "Sample 6 - Best score: 0.744\n",
      "Sample 6 - Best parameters: {'min_samples_split': 4, 'min_samples_leaf': 2, 'max_depth': 5}\n",
      "Sample 7 - Best score: 0.819\n",
      "Sample 7 - Best parameters: {'min_samples_split': 2, 'min_samples_leaf': 2, 'max_depth': 5}\n",
      "Sample 8 - Best score: 0.893\n",
      "Sample 8 - Best parameters: {'min_samples_split': 2, 'min_samples_leaf': 4, 'max_depth': 7}\n",
      "Sample 9 - Best score: 0.648\n",
      "Sample 9 - Best parameters: {'min_samples_split': 2, 'min_samples_leaf': 2, 'max_depth': 3}\n",
      "Sample 10 - Best score: 0.822\n",
      "Sample 10 - Best parameters: {'min_samples_split': 4, 'min_samples_leaf': 2, 'max_depth': 5}\n"
     ]
    }
   ],
   "source": [
    "# Define the target variable and features\n",
    "target = 'Group'\n",
    "features = [col for col in data.columns if col != target]\n",
    "\n",
    "\n",
    "\n",
    "# Define the decision tree classifier\n",
    "dtc = DecisionTreeClassifier()\n",
    "\n",
    "# Define the parameter grid for grid search\n",
    "param_grid = {'max_depth': [2, 3, 5, 7],\n",
    "              'min_samples_split': [2, 4, 6],\n",
    "              'min_samples_leaf': [2, 4]}\n",
    "\n",
    "# Perform repetitive random sampling with grid search\n",
    "n_samples = 10\n",
    "scores = []\n",
    "for i in range(n_samples):\n",
    "    # Sample a subset of the data\n",
    "    sample = data.sample(frac=0.8, replace=True, random_state=i)\n",
    "    X = sample[features]\n",
    "    y = sample[target]\n",
    "    \n",
    "    # Perform grid search on the decision tree classifier\n",
    "    rs = RandomizedSearchCV(dtc, param_grid, cv=3, n_iter=10, random_state=i)\n",
    "    rs.fit(X, y)\n",
    "    \n",
    "    # Print the metrics for the best model\n",
    "    print(f\"Sample {i+1} - Best score: {rs.best_score_:.3f}\")\n",
    "    print(f\"Sample {i+1} - Best parameters: {rs.best_params_}\")\n",
    "    scores.append(rs.best_score_)\n"
   ]
  },
  {
   "cell_type": "code",
   "execution_count": null,
   "id": "4e800704",
   "metadata": {},
   "outputs": [
    {
     "name": "stdout",
     "output_type": "stream",
     "text": [
      "Cross-validation scores: [0.58333333 0.66666667 0.63636364]\n",
      "Mean cross-validation score: 0.629\n"
     ]
    }
   ],
   "source": [
    "# Train the selected model on the entire dataset\n",
    "best_params_index = np.argmax(scores)\n",
    "best_params = rs.cv_results_['params'][best_params_index]\n",
    "dtc = DecisionTreeClassifier(**best_params)\n",
    "dtc.fit(data[features], data[target])\n",
    "\n",
    "# Evaluate the model using cross-validation\n",
    "cv_scores = cross_val_score(dtc, data[features], data[target], cv=3)\n",
    "print(f\"Cross-validation scores: {cv_scores}\")\n",
    "print(f\"Mean cross-validation score: {np.mean(cv_scores):.3f}\")\n"
   ]
  },
  {
   "cell_type": "code",
   "execution_count": null,
   "id": "512ff6e3",
   "metadata": {},
   "outputs": [
    {
     "data": {
      "image/png": "[encoded data removed]",
      "text/plain": [
       "<Figure size 432x288 with 1 Axes>"
      ]
     },
     "metadata": {
      "needs_background": "light"
     },
     "output_type": "display_data"
    }
   ],
   "source": [
    "# Plot the cross-validation scores\n",
    "plt.boxplot(cv_scores)\n",
    "num =3\n",
    "plt.title(\"Decision Tree Cross-Validation Results; n = %i\" %num)\n",
    "plt.xticks([])\n",
    "plt.ylabel(\"Accuracy Score\")\n",
    "plt.show()"
   ]
  },
  {
   "cell_type": "code",
   "execution_count": null,
   "id": "33e808c0",
   "metadata": {},
   "outputs": [
    {
     "data": {
      "image/png": "[encoded data removed]",
      "text/plain": [
       "<Figure size 432x288 with 1 Axes>"
      ]
     },
     "metadata": {
      "needs_background": "light"
     },
     "output_type": "display_data"
    }
   ],
   "source": [
    "# Plot the cross-validation scores\n",
    "plt.boxplot(scores)\n",
    "num =10\n",
    "plt.title(\"Decision Tree Repetitive Random Sampling Results; n = %i\" %num)\n",
    "\n",
    "plt.xticks([])\n",
    "plt.ylabel(\"Accuracy Score\")\n",
    "plt.show()"
   ]
  },
  {
   "cell_type": "code",
   "execution_count": null,
   "id": "efb8de77",
   "metadata": {},
   "outputs": [],
   "source": []
  }
 ],
 "metadata": {
  "kernelspec": {
   "display_name": "Python 3",
   "language": "python",
   "name": "python3"
  },
  "language_info": {
   "codemirror_mode": {
    "name": "ipython",
    "version": 3
   },
   "file_extension": ".py",
   "mimetype": "text/x-python",
   "name": "python",
   "nbconvert_exporter": "python",
   "pygments_lexer": "ipython3",
   "version": "3.7.6"
  }
 },
 "nbformat": 4,
 "nbformat_minor": 5
}
