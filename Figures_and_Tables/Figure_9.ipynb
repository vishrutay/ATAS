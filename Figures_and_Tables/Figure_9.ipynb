{
 "cells": [
  {
   "cell_type": "markdown",
   "id": "182b8a4a",
   "metadata": {},
   "source": [
    "## Decision Tree"
   ]
  },
  {
   "cell_type": "code",
   "execution_count": null,
   "id": "2e8a25d4",
   "metadata": {},
   "outputs": [],
   "source": [
    "import pandas as pd\n",
    "import numpy as np\n",
    "from sklearn.tree import DecisionTreeClassifier \n",
    "from sklearn.ensemble import RandomForestClassifier\n",
    "from sklearn.datasets import make_classification\n",
    "from sklearn import metrics\n",
    "from sklearn.model_selection import train_test_split, RandomizedSearchCV, cross_val_score\n",
    "from sklearn.metrics import confusion_matrix, ConfusionMatrixDisplay, accuracy_score\n",
    "import matplotlib.pyplot as plt"
   ]
  },
  {
   "cell_type": "code",
   "execution_count": null,
   "id": "ad963301",
   "metadata": {},
   "outputs": [],
   "source": [
    "# Load the all details csv \n",
    "par_details = pd.read_csv('..../Stat_csv_files/AWNS_AWS_all_details.csv') #Change path as required"
   ]
  },
  {
   "cell_type": "code",
   "execution_count": null,
   "id": "7f685c32",
   "metadata": {},
   "outputs": [],
   "source": [
    "#split dataset in features and target variable\n",
    "feature_cols = ['Total_Duration_Clipped_s', 'Mean Speech_s','Mean Pause_s','Percent_Pause','Pause_Duration_s','Pause_Events','CV Speech', 'CV Pause', 'long_p_count','short_p_count','long_p_durations_cv','short_p_durations_mean','short_p_durations_cv','long_p_durations_mean','Speech_Rate']\n",
    "\n",
    "X = par_details[feature_cols] # Features\n",
    "y = par_details['Group'] # Target variable"
   ]
  },
  {
   "cell_type": "code",
   "execution_count": null,
   "id": "3db50b51",
   "metadata": {},
   "outputs": [],
   "source": [
    "feature_cols1 = feature_cols + ['Group']\n",
    "data = par_details.loc[:, feature_cols1]"
   ]
  },
  {
   "cell_type": "code",
   "execution_count": null,
   "id": "63595423",
   "metadata": {},
   "outputs": [],
   "source": [
    "X_train, X_test, y_train, y_test = train_test_split(X, y, test_size=0.2, random_state=110) # 80% training and 20% test"
   ]
  },
  {
   "cell_type": "code",
   "execution_count": null,
   "id": "e394ac89",
   "metadata": {},
   "outputs": [
    {
     "name": "stdout",
     "output_type": "stream",
     "text": [
      "(35, 15)\n",
      "(35,)\n",
      "(28, 15)\n",
      "(28,)\n",
      "(7, 15)\n",
      "(7,)\n"
     ]
    }
   ],
   "source": [
    "print(X.shape)\n",
    "print(y.shape)\n",
    "print(X_train.shape)\n",
    "print(y_train.shape)\n",
    "print(X_test.shape)\n",
    "print(y_test.shape)"
   ]
  },
  {
   "cell_type": "code",
   "execution_count": null,
   "id": "53b93269",
   "metadata": {},
   "outputs": [
    {
     "name": "stdout",
     "output_type": "stream",
     "text": [
      "Accuracy: 0.7142857142857143\n",
      "Confusion matrix:\n",
      "[[2 1]\n",
      " [1 3]]\n"
     ]
    },
    {
     "data": {
      "image/png": "[encoded data removed]",
      "text/plain": [
       "<Figure size 432x288 with 2 Axes>"
      ]
     },
     "metadata": {
      "needs_background": "light"
     },
     "output_type": "display_data"
    }
   ],
   "source": [
    "# Create Decision Tree classifier object\n",
    "clf = DecisionTreeClassifier(max_depth=20, min_samples_split=3)\n",
    "\n",
    "# Train Decision Tree Classifier\n",
    "clf = clf.fit(X_train, y_train)\n",
    "\n",
    "# Predict the response for test dataset\n",
    "y_pred = clf.predict(X_test)\n",
    "\n",
    "# Model Accuracy, how often is the classifier correct?\n",
    "print(\"Accuracy:\", accuracy_score(y_test, y_pred))\n",
    "\n",
    "# Create a confusion matrix\n",
    "cm = confusion_matrix(y_test, y_pred)\n",
    "\n",
    "print(\"Confusion matrix:\")\n",
    "print(cm)\n",
    "\n",
    "# Plot the confusion matrix using ConfusionMatrixDisplay\n",
    "class_names = ['AWS', 'AWNS']\n",
    "disp = ConfusionMatrixDisplay.from_estimator(clf, X_test, y_test, display_labels=class_names, cmap=plt.cm.Blues)\n",
    "\n",
    "# Show the plot\n",
    "plt.show()\n"
   ]
  },
  {
   "cell_type": "code",
   "execution_count": null,
   "id": "5639842e",
   "metadata": {},
   "outputs": [],
   "source": [
    "# Define the target variable and features\n",
    "target = 'Group'\n",
    "features = [col for col in data.columns if col != target]\n",
    "\n",
    "\n",
    "\n",
    "# Define the decision tree classifier\n",
    "dtc = DecisionTreeClassifier()\n",
    "\n",
    "# Define the parameter grid for grid search\n",
    "param_grid = {'max_depth': [2,3, 5, 7],\n",
    "              'min_samples_split': [2, 4, 6],\n",
    "              'min_samples_leaf': [2, 4]}\n",
    "\n",
    "# Perform repetitive random sampling with grid search\n",
    "n_samples = 10\n",
    "scores = []\n",
    "for i in range(n_samples):\n",
    "    # Sample a subset of the data\n",
    "    sample = data.sample(frac=0.8, replace=True, random_state=i)\n",
    "    X = sample[features]\n",
    "    y = sample[target]\n",
    "    \n",
    "    # Perform grid search on the decision tree classifier\n",
    "    rs = RandomizedSearchCV(dtc, param_grid, cv=5, n_iter=10, random_state=i)\n",
    "    rs.fit(X, y)\n",
    "    \n",
    "    # Print the metrics for the best model\n",
    "    print(f\"Sample {i+1} - Best score: {rs.best_score_:.3f}\")\n",
    "    print(f\"Sample {i+1} - Best parameters: {rs.best_params_}\")\n",
    "    scores.append(rs.best_score_)\n"
   ]
  },
  {
   "cell_type": "code",
   "execution_count": null,
   "id": "5c2b0f3c",
   "metadata": {},
   "outputs": [],
   "source": [
    "# Train the selected model on the entire dataset\n",
    "best_params_index = np.argmax(scores)\n",
    "best_params = rs.cv_results_['params'][best_params_index]\n",
    "dtc = DecisionTreeClassifier(**best_params)\n",
    "dtc.fit(data[features], data[target])\n",
    "\n",
    "# Evaluate the model using cross-validation\n",
    "cv_scores = cross_val_score(dtc, data[features], data[target], cv=5)\n",
    "print(f\"Cross-validation scores: {cv_scores}\")\n",
    "print(f\"Mean cross-validation score: {np.mean(cv_scores):.3f}\")\n"
   ]
  },
  {
   "cell_type": "code",
   "execution_count": null,
   "id": "69a5705e",
   "metadata": {},
   "outputs": [],
   "source": [
    "# Plot the cross-validation scores\n",
    "cv_scores = cross_val_score(dtc, data[features], data[target], cv=5)\n",
    "plt.boxplot(cv_scores)\n",
    "num =5\n",
    "plt.title(\"Decision Tree Cross-Validation Results; n = %i\" %num)\n",
    "plt.xticks([])\n",
    "plt.ylabel(\"Accuracy Score\")\n",
    "plt.show()"
   ]
  },
  {
   "cell_type": "code",
   "execution_count": null,
   "id": "c679c803",
   "metadata": {},
   "outputs": [],
   "source": [
    "# Plot the cross-validation scores\n",
    "plt.boxplot(scores)\n",
    "num =10\n",
    "plt.title(\"Decision Tree Repetitive Random Sampling Results; n = %i\" %num)\n",
    "\n",
    "#plt.xlabel(\"Number of Folds\")\n",
    "plt.xticks([])\n",
    "plt.ylabel(\"Accuracy Score\")\n",
    "plt.show()"
   ]
  },
  {
   "cell_type": "markdown",
   "id": "ceef14b1",
   "metadata": {},
   "source": [
    "## Random Forest"
   ]
  },
  {
   "cell_type": "code",
   "execution_count": null,
   "id": "169adcf8",
   "metadata": {},
   "outputs": [],
   "source": [
    "# Selected features that were significantly different between speech samples for\n",
    "# AWS and AWNS "
   ]
  },
  {
   "cell_type": "code",
   "execution_count": null,
   "id": "289353c0",
   "metadata": {},
   "outputs": [],
   "source": [
    "#split dataset in features and target variable\n",
    "feature_cols = ['Mean Pause_s','Pause_Duration_s','CV Speech','long_p_count','short_p_durations_mean','Speech_Rate']\n",
    "\n",
    "X = par_details[feature_cols] # Features\n",
    "y = par_details['Group'] # Target variable\n",
    "# Split dataset into training set and test set\n",
    "X_train, X_test, y_train, y_test = train_test_split(X, y, test_size=0.2, random_state=124) # 80% training and 20% test"
   ]
  },
  {
   "cell_type": "code",
   "execution_count": null,
   "id": "0944c476",
   "metadata": {},
   "outputs": [],
   "source": [
    "# Create a random forest classifier with 100 trees\n",
    "rf = RandomForestClassifier(n_estimators=100, random_state=5)\n",
    "\n",
    "# Fit the model on the training data\n",
    "rf.fit(X_train, y_train)\n",
    "\n",
    "# Make predictions on the test data\n",
    "y_pred = rf.predict(X_test)\n",
    "\n",
    "# # Calculate the accuracy of the model\n",
    "# accuracy = accuracy_score(y_test, y_pred)\n",
    "# print(\"Accuracy:\", accuracy)"
   ]
  },
  {
   "cell_type": "code",
   "execution_count": null,
   "id": "22dc1daf",
   "metadata": {},
   "outputs": [
    {
     "name": "stdout",
     "output_type": "stream",
     "text": [
      "Accuracy: 0.8571428571428571\n",
      "Confusion matrix:\n",
      "[[4 1]\n",
      " [0 2]]\n"
     ]
    },
    {
     "data": {
      "image/png": "[encoded data removed]",
      "text/plain": [
       "<Figure size 432x288 with 2 Axes>"
      ]
     },
     "metadata": {
      "needs_background": "light"
     },
     "output_type": "display_data"
    }
   ],
   "source": [
    "from sklearn.ensemble import RandomForestClassifier\n",
    "from sklearn.metrics import confusion_matrix, ConfusionMatrixDisplay, accuracy_score\n",
    "import matplotlib.pyplot as plt\n",
    "\n",
    "# Model Accuracy, how often is the classifier correct?\n",
    "print(\"Accuracy:\", accuracy_score(y_test, y_pred))\n",
    "\n",
    "# Create a confusion matrix\n",
    "cm = confusion_matrix(y_test, y_pred)\n",
    "\n",
    "print(\"Confusion matrix:\")\n",
    "print(cm)\n",
    "\n",
    "# Plot the confusion matrix using ConfusionMatrixDisplay\n",
    "class_names = ['AWS', 'AWNS']\n",
    "disp = ConfusionMatrixDisplay.from_estimator(rf, X_test, y_test, display_labels=class_names, cmap=plt.cm.Blues)\n",
    "\n",
    "# Show the plot\n",
    "plt.show()\n"
   ]
  },
  {
   "cell_type": "code",
   "execution_count": null,
   "id": "c4e951f8",
   "metadata": {},
   "outputs": [],
   "source": [
    "import numpy as np\n",
    "import pandas as pd\n",
    "from sklearn.ensemble import RandomForestClassifier\n",
    "from sklearn.model_selection import train_test_split, RandomizedSearchCV, cross_val_score\n",
    "\n",
    "# Define the target variable and features\n",
    "target = 'Group'\n",
    "features = [col for col in data.columns if col != target]\n",
    "\n",
    "# Split the data into training and testing sets\n",
    "X_train, X_test, y_train, y_test = train_test_split(data[features], data[target], test_size=0.3, random_state=49)\n",
    "\n",
    "# Define the random forest classifier\n",
    "rfc = RandomForestClassifier(n_estimators=100)\n",
    "\n",
    "# Define the parameter grid for grid search\n",
    "param_grid = {'max_depth': [3, 5, 7],\n",
    "              'min_samples_split': [2, 4, 6],\n",
    "              'min_samples_leaf': [1, 2, 4],\n",
    "              'max_features': ['sqrt', 'log2', None]}\n",
    "\n",
    "# Perform repetitive random sampling with grid search\n",
    "n_samples = 10\n",
    "scores = []\n",
    "for i in range(n_samples):\n",
    "    # Sample a subset of the data\n",
    "    sample = data.sample(frac=0.8, replace=True, random_state=i)\n",
    "    X = sample[features]\n",
    "    y = sample[target]\n",
    "    \n",
    "    # Perform grid search on the random forest classifier\n",
    "    rs = RandomizedSearchCV(rfc, param_grid, cv=5, n_iter=10, random_state=i)\n",
    "    rs.fit(X, y)\n",
    "    \n",
    "    # Print the metrics for the best model\n",
    "    print(f\"Sample {i+1} - Best score: {rs.best_score_:.3f}\")\n",
    "    print(f\"Sample {i+1} - Best parameters: {rs.best_params_}\")\n",
    "    scores.append(rs.best_score_)\n",
    "    \n"
   ]
  },
  {
   "cell_type": "code",
   "execution_count": null,
   "id": "85f3d6c4",
   "metadata": {},
   "outputs": [],
   "source": [
    "# Train the selected model on the entire dataset\n",
    "best_params_index = np.argmax(scores)\n",
    "best_params = rs.cv_results_['params'][best_params_index]\n",
    "rfc = RandomForestClassifier(n_estimators=100, **best_params)\n",
    "rfc.fit(data[features], data[target])\n",
    "\n",
    "# Evaluate the model using cross-validation\n",
    "cv_scores = cross_val_score(rfc, data[features], data[target], cv=5)\n",
    "print(f\"Cross-validation scores: {cv_scores}\")\n",
    "print(f\"Mean cross-validation score: {np.mean(cv_scores):.3f}\")\n"
   ]
  },
  {
   "cell_type": "code",
   "execution_count": null,
   "id": "14590f2b",
   "metadata": {},
   "outputs": [],
   "source": [
    "# Plot the cross-validation scores\n",
    "plt.boxplot(cv_scores)\n",
    "num =5\n",
    "plt.title(\"Randon Forest Cross-Validation Results; n = %i\" %num)\n",
    "plt.xticks([])\n",
    "plt.ylabel(\"Accuracy Score\")\n",
    "plt.show()"
   ]
  },
  {
   "cell_type": "code",
   "execution_count": null,
   "id": "26566a71",
   "metadata": {},
   "outputs": [],
   "source": [
    "# Plot the cross-validation scores\n",
    "plt.boxplot(scores)\n",
    "num =10\n",
    "plt.title(\"Randon Forest Repetitive Random Sampling Results; n = %i\" %num)\n",
    "plt.xticks([])\n",
    "plt.ylabel(\"Accuracy Score\")\n",
    "plt.show()"
   ]
  }
 ],
 "metadata": {
  "kernelspec": {
   "display_name": "Python 3",
   "language": "python",
   "name": "python3"
  },
  "language_info": {
   "codemirror_mode": {
    "name": "ipython",
    "version": 3
   },
   "file_extension": ".py",
   "mimetype": "text/x-python",
   "name": "python",
   "nbconvert_exporter": "python",
   "pygments_lexer": "ipython3",
   "version": "3.7.6"
  }
 },
 "nbformat": 4,
 "nbformat_minor": 5
}
