{
 "cells": [
  {
   "cell_type": "code",
   "execution_count": null,
   "metadata": {},
   "outputs": [],
   "source": [
    "import wave, os, glob\n",
    "import noisereduce as nr\n",
    "from scipy.io import wavfile\n",
    "import matplotlib.pyplot as plt\n",
    "import librosa.display\n",
    "import sys\n",
    "import numpy \n",
    "import librosa\n",
    "numpy.set_printoptions(threshold=sys.maxsize)\n",
    "from pydub import AudioSegment,silence\n",
    "import math\n",
    "from scipy.stats import variation \n",
    "import statistics\n",
    "import pandas as pd\n",
    "import itertools\n",
    "import numpy as np\n",
    "import warnings\n",
    "warnings.filterwarnings(\"ignore\")"
   ]
  },
  {
   "cell_type": "code",
   "execution_count": null,
   "metadata": {},
   "outputs": [],
   "source": [
    "folder_with_code_and_audio_files = # '..../Preprocessed_audio_files/AWS'"
   ]
  },
  {
   "cell_type": "code",
   "execution_count": null,
   "metadata": {},
   "outputs": [],
   "source": [
    "pause_time_threshold = 50\n",
    "speech_time_threshold = 100\n",
    "segment_size_t = 1 # smaller segments to calculate mean within longer segment_size_t_windows\n",
    "segment_size_t_window = 3 # segment size in seconds"
   ]
  },
  {
   "cell_type": "code",
   "execution_count": null,
   "metadata": {},
   "outputs": [],
   "source": [
    "os.chdir(folder_with_code_and_audio_files)"
   ]
  },
  {
   "cell_type": "code",
   "execution_count": null,
   "metadata": {},
   "outputs": [],
   "source": [
    "%run -i  \"..../Stat_csv_files/ATAS_functions.ipynb\"  #Change path as required"
   ]
  },
  {
   "cell_type": "code",
   "execution_count": null,
   "metadata": {},
   "outputs": [
    {
     "name": "stdout",
     "output_type": "stream",
     "text": [
      "   File_Name  Start_time \n",
      "0   24fa.wav          0.0\n",
      "1   24ma.wav          0.0\n",
      "2   24mb.wav          0.0\n",
      "3    26f.wav          0.0\n",
      "4   29ma.wav          0.0\n",
      "5   29mb.wav          0.0\n",
      "6   29mc.wav          0.0\n",
      "7    32m.wav          0.0\n",
      "8    34m.wav          0.0\n",
      "9   35mb.wav          0.0\n",
      "10  46ma.wav          0.0\n",
      "11  50fa.wav          0.0\n",
      "12  50fb.wav          0.0\n",
      "13   57m.wav          0.0\n",
      "14   60m.wav          0.0\n",
      "15   62f.wav          0.0\n",
      "16   62m.wav          0.0\n"
     ]
    }
   ],
   "source": [
    "# Get the csv file with the file names and the trimming intervals \n",
    "df_times = pd.read_csv(\"AWS_input.csv\") # Change path if required\n",
    "\n",
    "\n",
    "# This csv file is saved in the same location as the pre-processed audio files being used for the analysis\n",
    "# This is a csv file with the exact file names under column name 'File_name'\n",
    "# The second column with name 'Start_time'\n",
    "# The third (optional) column with name 'End_time' - exclude this column if you want to consider the entire file for analysis\n",
    "\n",
    "print (df_times)\n",
    "df_times_dim = df_times.shape"
   ]
  },
  {
   "cell_type": "code",
   "execution_count": null,
   "metadata": {},
   "outputs": [],
   "source": [
    "# this will take you to the folder you saved your files in and select just the wav files \n",
    "import glob, os\n",
    "os.chdir(folder_with_code_and_audio_files)\n",
    "all_files = []\n",
    "for file in glob.glob(\"*.wav\"):\n",
    "    all_files.append(file)"
   ]
  },
  {
   "cell_type": "code",
   "execution_count": null,
   "metadata": {},
   "outputs": [],
   "source": [
    "\n",
    "# This one will consider only the files that have names from the csv files that stores that audio file names for the files that need to be analyzed\n",
    "df_together = []\n",
    "for file_number in range(df_times_dim[0]):\n",
    "    print(f\"Analyzing file number: {file_number}\")\n",
    "    file_name = df_times.iloc[file_number,0]\n",
    "    start_time = df_times.iloc[file_number,1]\n",
    "    for f_name_current in all_files:\n",
    "        if f_name_current == file_name:\n",
    "            f_name_check = f_name_current\n",
    "            print(f\"Currently analyzing file: {f_name_current}\")\n",
    "            if df_times.shape[1] > 2:\n",
    "            # Option 1: Use the end_time from the DataFrame\n",
    "                end_time = df_times.iloc[file_number, 2]\n",
    "            else:\n",
    "            # Option 2: Use librosa to get the duration of the file\n",
    "                end_time = librosa.get_duration(filename=f_name_current)\n",
    "            print(end_time)\n",
    "            x, sr = load_display_file_wf(f_name_current)\n",
    "            x_nr, sr_nr, wav_file_nr = reduce_file_noise_wf (f_name_current,x,sr)\n",
    "            x_nr_ex, sr_nr_ex, trim_file, f_trim_file,trim_file_viz, f_name_2 = wav_file_trim_wf (wav_file_nr, start_time, end_time)\n",
    "            all_seg_details_silence_p_file, all_seg_details_silence_rem_file, seg_time_leng = event_detection_seg_wf_window(x_nr_ex, sr_nr_ex, segment_size_t_window, trim_file)            \n",
    "            print(seg_time_leng)\n",
    "            silence_p_final_end, silence_rem_final_end,ddf,long_p,short_p,long_p_durations,short_p_durations = detect_proper_events(all_seg_details_silence_p_file,all_seg_details_silence_rem_file,speech_time_threshold,pause_time_threshold, f_name_current, seg_time_leng)\n",
    "            \n",
    "            print(f\"No. of long pauses: {len(long_p)}\")\n",
    "            print(f\"Long pause durations: {long_p_durations}\")\n",
    "            print(f\"No. of short pauses: {len(short_p)}\")\n",
    "            print(f\"Short pause durations: {short_p_durations}\")\n",
    "\n",
    "            df,ddf = event_statistics_wf(f_name_current, f_trim_file, x_nr_ex, sr_nr_ex,silence_p_final_end, silence_rem_final_end,speech_time_threshold,pause_time_threshold, ddf, long_p, short_p)\n",
    "            pp_t = os.getcwd()\n",
    "            f_name_1 = f_name_current.rsplit('.', maxsplit=1)[0]\n",
    "            ddf_csv_file = pp_t + '/' + f_name_1+ '_f.csv'\n",
    "            ddf.to_csv(ddf_csv_file) \n",
    "            df_list = df.values.tolist()\n",
    "            print(df_list)\n",
    "            df_together.append(df_list[0])\n",
    "            \n",
    "df_together_csv = pd.DataFrame(df_together, columns= ['File_Name',\n",
    "                              'Speech Time Threshold_ms',\n",
    "                              'Pause Time Threshold_ms',\n",
    "                              'Percent_Pause',\n",
    "                              'Percent_Speech',\n",
    "                              'Total_Duration_Unclipped_s',\n",
    "                              'Total_Duration_Clipped_s',\n",
    "                              'Speech_Duration_s', \n",
    "                              'Pause_Duration_s', \n",
    "                              'Speech_Events', \n",
    "                              'Pause_Events',\n",
    "                              'Mean Speech_s',\n",
    "                              'Std Dev Speech',\n",
    "                              'CV Speech',\n",
    "                              'Mean Pause_s',\n",
    "                              'Std Dev Pause',\n",
    "                              'CV Pause'                                                                                                       \n",
    "                             ])\n",
    "pp_t = os.getcwd()\n",
    "file_tog_name = 'AWS_All_files_together_50_ms_1_win_50_150'\n",
    "csv_file = pp_t + '/' + file_tog_name+ '_csv.csv'\n",
    "df_together_csv.to_csv (csv_file, index = False, header=True)"
   ]
  },
  {
   "cell_type": "code",
   "execution_count": null,
   "metadata": {},
   "outputs": [],
   "source": [
    "## Description of columns in the file AWS_All_files_together_50_ms_1_win_50_150.csv\n",
    "\n",
    "# 'File_Name' - name of the file e.g. '24fa.wav'\n",
    "# 'Speech Time Threshold_ms' - minimum speech event selection threshold (temporal) \n",
    "# 'Pause Time Threshold_ms' - minimum pause event selection threshold (temporal)\n",
    "# 'Percent_Pause' - percent of (total duration of all pause events in file/ total duration of file)\n",
    "# 'Percent_Speech' - percent of (total duration of all speech events in file/ total duration of file)\n",
    "# 'Total_Duration_Unclipped_s' - Total original file duration\n",
    "# 'Total_Duration_Clipped_s' - Total final file duration (for analysis)\n",
    "# 'Speech_Duration_s' - Total duration of all speech events in file\n",
    "# 'Pause_Duration_s'- Total duration of all pause events in file\n",
    "# 'Speech_Events' - Speech events total count\n",
    "# 'Pause_Events' - Pause events total counts\n",
    "# 'Mean Speech_s' - Mean duration metric of all the speech event durations\n",
    "# 'Std Dev Speech' - Standard deviation metric of all the speech event durations\n",
    "# 'CV Speech' - Covariate of variation metric of all the speech event durations \n",
    "# 'Mean Pause_s' - Mean duration metric of all the pause event durations\n",
    "# 'Std Dev Pause' - Standard deviation metric of all the pause event durations\n",
    "# 'CV Pause'- Covariate of variation metric of all the pause event durations \n"
   ]
  },
  {
   "cell_type": "code",
   "execution_count": null,
   "metadata": {},
   "outputs": [],
   "source": [
    "# Description of columns in individual participant time series data csv file\n",
    "# e.g. '24fa_f.csv'\n",
    "\n",
    "# 'level_0' - This column holds previous event positions that were part of a \n",
    "#           multi-level index from an earlier stage in the function.\n",
    "\n",
    "# 'index' - This column represents the original row position of each event in the DataFrame, \n",
    "#           which can be useful for backtracking or verifying the original sequence of detected events\n",
    "\n",
    "# 'Time_start' - Start time of the detected event (in seconds, with respect to the time of the file)\n",
    "# 'Time_end' - End time of the detected event (in seconds, with respect to the time of the file)\n",
    "# 'Labels' - Type of event\n",
    "# 'Lables_X' - Type of preceeding event\n",
    "# 'Time_diff' - Duration of the detected event (in seconds)\n",
    "\n"
   ]
  }
 ],
 "metadata": {
  "kernelspec": {
   "display_name": "Python 3",
   "language": "python",
   "name": "python3"
  },
  "language_info": {
   "codemirror_mode": {
    "name": "ipython",
    "version": 3
   },
   "file_extension": ".py",
   "mimetype": "text/x-python",
   "name": "python",
   "nbconvert_exporter": "python",
   "pygments_lexer": "ipython3",
   "version": "3.7.6"
  }
 },
 "nbformat": 4,
 "nbformat_minor": 4
}
