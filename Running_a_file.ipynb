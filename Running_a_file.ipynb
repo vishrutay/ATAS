{
 "cells": [
  {
   "cell_type": "code",
   "execution_count": null,
   "id": "a137ba92",
   "metadata": {},
   "outputs": [],
   "source": [
    "import os\n",
    "import wave\n",
    "import librosa\n",
    "from scipy.io import wavfile\n",
    "import noisereduce as nr\n",
    "import itertools\n",
    "import numpy as np\n",
    "import IPython.display as ipd\n",
    "from pydub import AudioSegment,silence\n",
    "import librosa.display\n",
    "import matplotlib.pyplot as plt\n",
    "import wave\n",
    "import numpy\n",
    "import pandas as pd\n",
    "import statistics\n",
    "from scipy.stats import variation\n",
    "import matplotlib.patches as mpatches"
   ]
  },
  {
   "cell_type": "code",
   "execution_count": null,
   "id": "8e7bbbc0",
   "metadata": {},
   "outputs": [],
   "source": [
    "folder_with_code_and_audio_files = # provide address to the folder with the wav file to be analyzed"
   ]
  },
  {
   "cell_type": "code",
   "execution_count": null,
   "id": "5daf8050",
   "metadata": {},
   "outputs": [],
   "source": [
    "os.chdir(folder_with_code_and_audio_files)"
   ]
  },
  {
   "cell_type": "code",
   "execution_count": null,
   "id": "55aa16c5",
   "metadata": {},
   "outputs": [],
   "source": [
    "# Example file\n",
    "file_name = '62m.wav'"
   ]
  },
  {
   "cell_type": "code",
   "execution_count": null,
   "id": "6f75e8f8",
   "metadata": {},
   "outputs": [],
   "source": [
    "%run -i ATAS_functions.ipynb"
   ]
  },
  {
   "cell_type": "code",
   "execution_count": null,
   "id": "14062014",
   "metadata": {},
   "outputs": [],
   "source": [
    "pause_time_threshold = 50\n",
    "speech_time_threshold = 100\n",
    "segment_size_t = 1 # smaller segments to calculate mean within longer segment_size_t_windows (if required)\n",
    "segment_size_t_window = 3 # segment size in seconds"
   ]
  },
  {
   "cell_type": "code",
   "execution_count": null,
   "id": "6ff308f5",
   "metadata": {},
   "outputs": [],
   "source": [
    "# If the file needs to be clipped change start_time and end_time in ms\n",
    "start_time = 0.000 \n",
    "end_time   = librosa.get_duration(filename=file_name)"
   ]
  },
  {
   "cell_type": "code",
   "execution_count": null,
   "id": "f706f423",
   "metadata": {},
   "outputs": [],
   "source": [
    "x, sr = load_display_file_wf(file_name)"
   ]
  },
  {
   "cell_type": "code",
   "execution_count": null,
   "id": "9d3b1755",
   "metadata": {},
   "outputs": [],
   "source": [
    "f_name_current = file_name "
   ]
  },
  {
   "cell_type": "code",
   "execution_count": null,
   "id": "8fc5233f",
   "metadata": {},
   "outputs": [],
   "source": [
    "x_nr, sr_nr, wav_file_nr = reduce_file_noise_wf (file_name,x,sr)"
   ]
  },
  {
   "cell_type": "code",
   "execution_count": null,
   "id": "7b31fa61",
   "metadata": {},
   "outputs": [],
   "source": [
    "x_nr_ex, sr_nr_ex, trim_file, f_trim_file,trim_file_viz, f_name_2 = wav_file_trim_wf (wav_file_nr, start_time, end_time)"
   ]
  },
  {
   "cell_type": "code",
   "execution_count": null,
   "id": "d2309618",
   "metadata": {},
   "outputs": [],
   "source": [
    "all_seg_details_silence_p_file, all_seg_details_silence_rem_file, seg_time_leng = event_detection_seg_wf_window(x_nr_ex, sr_nr_ex, segment_size_t_window, trim_file)            \n"
   ]
  },
  {
   "cell_type": "code",
   "execution_count": null,
   "id": "ba3b4f1c",
   "metadata": {},
   "outputs": [],
   "source": [
    "silence_p_final_end, silence_rem_final_end,ddf,long_p,short_p,long_p_durations,short_p_durations = detect_proper_events(all_seg_details_silence_p_file,all_seg_details_silence_rem_file,speech_time_threshold,pause_time_threshold, file_name, seg_time_leng)"
   ]
  },
  {
   "cell_type": "code",
   "execution_count": null,
   "id": "44964420",
   "metadata": {},
   "outputs": [],
   "source": [
    "# Visualize detection\n",
    "viz_S_P_A (trim_file_viz,ddf)"
   ]
  },
  {
   "cell_type": "code",
   "execution_count": null,
   "id": "ee01389f",
   "metadata": {},
   "outputs": [],
   "source": [
    "df,ddf = event_statistics_wf(file_name, f_trim_file, x_nr_ex, sr_nr_ex,silence_p_final_end, silence_rem_final_end,speech_time_threshold,pause_time_threshold, ddf,long_p, short_p)"
   ]
  },
  {
   "cell_type": "code",
   "execution_count": null,
   "id": "21e7b4c5",
   "metadata": {},
   "outputs": [],
   "source": [
    "print(df)"
   ]
  },
  {
   "cell_type": "code",
   "execution_count": null,
   "id": "90c8fa3a",
   "metadata": {},
   "outputs": [],
   "source": [
    "# Save output as csv file\n",
    "pp_t = os.getcwd()\n",
    "f_name_1 = os.path.splitext(file_name)[0]\n",
    "ddf_csv_file = os.path.join(pp_t, f\"{f_name_1}_chk.csv\")\n",
    "ddf.to_csv(ddf_csv_file, index=False)"
   ]
  },
  {
   "cell_type": "code",
   "execution_count": null,
   "id": "97f595ae",
   "metadata": {},
   "outputs": [],
   "source": []
  }
 ],
 "metadata": {
  "kernelspec": {
   "display_name": "Python 3",
   "language": "python",
   "name": "python3"
  },
  "language_info": {
   "codemirror_mode": {
    "name": "ipython",
    "version": 3
   },
   "file_extension": ".py",
   "mimetype": "text/x-python",
   "name": "python",
   "nbconvert_exporter": "python",
   "pygments_lexer": "ipython3",
   "version": "3.7.6"
  }
 },
 "nbformat": 4,
 "nbformat_minor": 5
}
