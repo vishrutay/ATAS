{
 "cells": [
  {
   "cell_type": "code",
   "execution_count": null,
   "id": "d7879715",
   "metadata": {},
   "outputs": [],
   "source": [
    "import pandas as pd\n",
    "import numpy as np\n",
    "import matplotlib.pyplot as plt\n",
    "from scipy import stats\n",
    "import statistics\n",
    "from scipy.stats import variation\n",
    "from scipy.stats import mannwhitneyu"
   ]
  },
  {
   "cell_type": "code",
   "execution_count": null,
   "id": "7ecff700",
   "metadata": {},
   "outputs": [],
   "source": [
    "# Load ATAS multiple file analysis output files (Outputs from - Streamlined_ATAS_AWS.ipynb/ Streamlined_ATAS_AWNS.ipynb)\n",
    "df_1 = pd.read_csv('.../Stat_csv_files/AWNS_All_files_together_50_ms_1_win_50_150_csv.csv') #Change path as required\n",
    "df_2 = pd.read_csv('.../Stat_csv_files/AWS_All_files_together_50_ms_1_win_50_150_csv.csv') #Change path as required\n",
    "\n",
    "ssi_scores = pd.read_csv('.../Stat_csv_files/AWS_SSI_details.csv') # Change path as required # Use if applicable\n",
    "\n",
    "\n",
    "# CSV files with Participant details\n",
    "AWNS_par = pd.read_csv('.../Stat_csv_files/AWNS_details.csv') #Change path as required\n",
    "AWS_par = pd.read_csv('.../Stat_csv_files/AWS_details.csv') #Change path as required"
   ]
  },
  {
   "cell_type": "code",
   "execution_count": null,
   "id": "05645ea5",
   "metadata": {},
   "outputs": [],
   "source": [
    "individual_csv_files_path =  '../ATAS_Multiple_Files_Analysis/Individual_OutputCSV_Files/' #Change path as required"
   ]
  },
  {
   "cell_type": "code",
   "execution_count": null,
   "id": "e1423392",
   "metadata": {},
   "outputs": [],
   "source": [
    "#columns_to_remove = ['Long Pauses', 'Short Pauses'] # if present\n",
    "df_1_cleaned = df_1.drop(columns=columns_to_remove, errors='ignore')\n",
    "df_2_cleaned = df_2.drop(columns=columns_to_remove, errors='ignore')\n",
    "df_all = pd.concat([df_1_cleaned, df_2_cleaned], axis=0, ignore_index=True)"
   ]
  },
  {
   "cell_type": "code",
   "execution_count": null,
   "id": "e654a373",
   "metadata": {},
   "outputs": [],
   "source": [
    "%run -i \"..../Stat_csv_files/Long_short_pause_compute_functions.ipynb\"  #Change path as required"
   ]
  },
  {
   "cell_type": "code",
   "execution_count": null,
   "id": "1897b8ec",
   "metadata": {},
   "outputs": [],
   "source": [
    "# Merge participant details\n",
    "df_all_1 = merge_dataframes_on_filename(df_all, AWNS_par, AWS_par)\n",
    "\n",
    "# Calculate long and short pause metrics\n",
    "\n",
    "pause_threshold = 0.15 # the threshold for the long and short pause categorization in sec \n",
    "# pause event >= pause_threshold - long pause \n",
    "# pause event < pause_threshold - short pause \n",
    "\n",
    "for i, row in df_all_1.iterrows():\n",
    "    filename = row[0]\n",
    "    csv_filename_1 = filename.split('.wav')[0] + '_f.csv'\n",
    "    csv_filename = individual_csv_files_path + csv_filename_1\n",
    "    process_pause_durations(csv_filename, df_all_1, i, pause_threshold)\n",
    "\n",
    "# Calculate the speech rate\n",
    "calculate_speech_rate(df_all_1)\n"
   ]
  },
  {
   "cell_type": "code",
   "execution_count": null,
   "id": "5a8457cf",
   "metadata": {},
   "outputs": [],
   "source": [
    "# Remove if not applicable\n",
    "\n",
    "# Merge SSI scores\n",
    "df_all_1 = merge_ssi_scores(df_all_1, ssi_scores) # Remove if not applicable"
   ]
  },
  {
   "cell_type": "code",
   "execution_count": null,
   "id": "07b5d432",
   "metadata": {},
   "outputs": [],
   "source": [
    "# Export final csv\n",
    "output_csv_path = '.../Stat_csv_files/AWNS_AWS_all_details.csv' # Specify your output path\n",
    "df_all_1.to_csv(output_csv_path, index=False)  # Save the DataFrame to a CSV file"
   ]
  },
  {
   "cell_type": "code",
   "execution_count": null,
   "id": "4557eb9d",
   "metadata": {},
   "outputs": [],
   "source": [
    "# Set display options to show all columns\n",
    "pd.set_option('display.max_columns', None)\n",
    "pd.set_option('display.width', None)  # Prevent wrapping of columns\n",
    "pd.set_option('display.max_rows', None)  # Optional: show all rows if needed"
   ]
  },
  {
   "cell_type": "code",
   "execution_count": null,
   "id": "5a85263a",
   "metadata": {},
   "outputs": [],
   "source": [
    "# df_all_1"
   ]
  },
  {
   "cell_type": "code",
   "execution_count": null,
   "id": "694ddcde",
   "metadata": {},
   "outputs": [
    {
     "data": {
      "text/plain": [
       "Index(['File_Name', 'Group', 'Age', 'Sex', 'Total_words_expected',\n",
       "       'Words_missing_at_end', 'Final_word_count', 'Speech Time Threshold_ms',\n",
       "       'Pause Time Threshold_ms', 'Percent_Pause', 'Percent_Speech',\n",
       "       'Total_Duration_Unclipped_s', 'Total_Duration_Clipped_s',\n",
       "       'Speech_Duration_s', 'Pause_Duration_s', 'Speech_Events',\n",
       "       'Pause_Events', 'Mean Speech_s', 'Std Dev Speech', 'CV Speech',\n",
       "       'Mean Pause_s', 'Std Dev Pause', 'CV Pause', 'All_events_durations',\n",
       "       'long_p_durations', 'short_p_durations', 'long_p_count',\n",
       "       'short_p_count', 'long_p_durations_mean', 'short_p_durations_mean',\n",
       "       'long_p_durations_cv', 'short_p_durations_cv', 'Event_type',\n",
       "       'Speech_Rate', 'ID', 'No_of_stuttered_syllables',\n",
       "       'No_of_total_syllables', 'Percent_syllables_stuttered', 'Score'],\n",
       "      dtype='object')"
      ]
     },
     "execution_count": null,
     "metadata": {},
     "output_type": "execute_result"
    }
   ],
   "source": [
    "df_all_1.columns"
   ]
  },
  {
   "cell_type": "code",
   "execution_count": null,
   "id": "4030ab6a",
   "metadata": {},
   "outputs": [],
   "source": [
    "# Description of these column parameters:\n",
    "# 'File_Name' - name of the file e.g. 'C1_DS.wav'\n",
    "# 'Group' - Category e.g. AWS and AWNS, CWS and CWNS\n",
    "# 'Age' - Age - unit as you input \n",
    "# 'Sex' - as you input e.g. F or M\n",
    "# 'Total_words_expected' - total number of words in the passage to be read\n",
    "# 'Words_missing_at_end' - incase if any less words were read \n",
    "# 'Final_word_count' - total number of words read present in the acoustic file\n",
    "# 'Speech Time Threshold_ms' - minimum speech event selection threshold (temporal)\n",
    "# 'Pause Time Threshold_ms' - minimum pause event selection threshold (temporal)\n",
    "# 'Percent_Pause' - percent of (total duration of all pause events in file/ total duration of file)\n",
    "# 'Percent_Speech' - percent of (total duration of all speech events in file/ total duration of file)\n",
    "# 'Total_Duration_Unclipped_s' - Total original file duration\n",
    "# 'Total_Duration_Clipped_s' - Total final file duration (for analysis) - based on the start and stop time input from the csv file\n",
    "# 'Speech_Duration_s' - total duration of all speech events in file\n",
    "# 'Pause_Duration_s' - total duration of all pause events in file\n",
    "# 'Speech_Events'- speech events total count\n",
    "# 'Pause_Events' - pause events total counts\n",
    "# 'Mean Speech_s' - mean duration metric of all the speech event durations\n",
    "# 'Std Dev Speech' - standard deviation metric of all the speech event durations\n",
    "# 'CV Speech' - covariate of variation metric of all the speech event durations \n",
    "# 'Mean Pause_s' - mean duration metric of all the pause event durations\n",
    "# 'Std Dev Pause' - standard deviation metric of all the pause event durations\n",
    "# 'CV Pause' - covariate of variation metric of all the pause event durations \n",
    "# 'All_events_durations' - all the individual event durations\n",
    "# 'long_p_durations' - all the individual event (long pause) durations\n",
    "# 'short_p_durations'- all the individual event (short pause) durations\n",
    "# 'long_p_count' - long pause events total counts\n",
    "# 'short_p_count' - short pause events total counts\n",
    "# 'long_p_durations_mean' - mean duration metric of all the long pause event durations\n",
    "# 'short_p_durations_mean' - mean duration metric of all the short pause event durations\n",
    "# 'long_p_durations_cv' - covariate of variation metric of all the long pause event durations \n",
    "# 'short_p_durations_cv'- covariate of variation metric of all the short pause event durations\n",
    "# 'Speech_Rate'- speech rate (total words read/ total file time)\n",
    "# 'ID' - redundant - file name present for the files for which %SS scores and other clinical assessment related scores are available\n",
    "# 'No_of_stuttered_syllables' - no of stuttered syllables in the speech file\n",
    "# 'No_of_total_syllables' - no of total syllables in the speech file\n",
    "# 'Percent_syllables_stuttered' - (No_of_stuttered_syllables/No_of_total_syllables)\n",
    "# 'Score' - SSI-4 score"
   ]
  }
 ],
 "metadata": {
  "kernelspec": {
   "display_name": "Python 3",
   "language": "python",
   "name": "python3"
  },
  "language_info": {
   "codemirror_mode": {
    "name": "ipython",
    "version": 3
   },
   "file_extension": ".py",
   "mimetype": "text/x-python",
   "name": "python",
   "nbconvert_exporter": "python",
   "pygments_lexer": "ipython3",
   "version": "3.7.6"
  }
 },
 "nbformat": 4,
 "nbformat_minor": 5
}
